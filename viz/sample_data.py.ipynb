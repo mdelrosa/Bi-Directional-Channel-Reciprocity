{
 "cells": [
  {
   "cell_type": "code",
   "execution_count": 42,
   "metadata": {},
   "outputs": [],
   "source": [
    "# sample_data.py\n",
    "# get N samples from dataset\n",
    "import scipy.io as sio\n",
    "import numpy as np\n",
    "import os # for checking process memory\n",
    "import psutil # for checking process memory\n",
    "import sys"
   ]
  },
  {
   "cell_type": "code",
   "execution_count": 39,
   "metadata": {},
   "outputs": [],
   "source": [
    "def load_batches(batch_num, base_name='mat_indoor5351_bw20MHz'):\n",
    "    # iterate through batches, add to base values\n",
    "    for i in range(2,batch_num+1):\n",
    "        print(\"Loading batch #{}...\".format(i))\n",
    "        mat_down = sio.loadmat('{}_{}_down.mat'.format(base_name, i))\n",
    "        mat_up = sio.loadmat('{}_{}_up.mat'.format(base_name, i))\n",
    "        print('-> mat_down[\"Hur_down\"].shape: {}'.format(mat_down[\"Hur_down\"].shape))\n",
    "        print('-> mat_up[\"Hur_up\"].shape: {}'.format(mat_up[\"Hur_up\"].shape))\n",
    "        try:\n",
    "            Hur_down = np.vstack((Hur_down, mat_down['Hur_down']))\n",
    "            Hur_up = np.vstack((Hur_up, mat_up['Hur_up']))\n",
    "        except:\n",
    "            Hur_down = mat_down['Hur_down']\n",
    "            Hur_up = mat_up['Hur_up']\n",
    "        print('-> Hur_down.shape: {}'.format(Hur_down.shape))\n",
    "        print('-> Hur_up.shape: {}'.format(Hur_up.shape))\n",
    "\n",
    "    return [Hur_down, Hur_up]\n",
    "\n",
    "def sample_data(Hur_down, Hur_up, base_name='mat_indoor5351_bw20MHz', n=1, n_ant=32):\n",
    "    # take n samples from dataset and save them\n",
    "    total_samples = Hur_down.shape[0]\n",
    "    indices = np.random.choice(total_samples, size=n, replace=False)\n",
    "    Hur_down_out = Hur_down[indices,:]\n",
    "    Hur_up_out = Hur_up[indices,:]\n",
    "    \n",
    "    # save method\n",
    "    print('saving samples at indices: {}'.format(indices)) \n",
    "    print('Hur_down_out.shape: {}'.format(Hur_down_out.shape))\n",
    "    print('Hur_up_out.shape: {}'.format(Hur_up_out.shape))\n",
    "    sio.savemat('{}_{}ant_down_sample.mat'.format(base_name, n_ant), {'Hur_down': Hur_down_out})\n",
    "    sio.savemat('{}_{}ant_up_sample.mat'.format(base_name, n_ant), {'Hur_up': Hur_up_out})\n",
    "    \n",
    "    # return sampled data\n",
    "    return [Hur_down_out, Hur_up_out]"
   ]
  },
  {
   "cell_type": "code",
   "execution_count": 40,
   "metadata": {},
   "outputs": [
    {
     "name": "stdout",
     "output_type": "stream",
     "text": [
      "Loading batch #2...\n",
      "-> mat_down[\"Hur_down\"].shape: (10, 32768)\n",
      "-> mat_up[\"Hur_up\"].shape: (10, 32768)\n",
      "-> Hur_down.shape: (10, 32768)\n",
      "-> Hur_up.shape: (10, 32768)\n",
      "Loading batch #3...\n",
      "-> mat_down[\"Hur_down\"].shape: (10, 32768)\n",
      "-> mat_up[\"Hur_up\"].shape: (10, 32768)\n",
      "-> Hur_down.shape: (20, 32768)\n",
      "-> Hur_up.shape: (20, 32768)\n",
      "Loading batch #4...\n",
      "-> mat_down[\"Hur_down\"].shape: (10, 32768)\n",
      "-> mat_up[\"Hur_up\"].shape: (10, 32768)\n",
      "-> Hur_down.shape: (30, 32768)\n",
      "-> Hur_up.shape: (30, 32768)\n",
      "Loading batch #5...\n",
      "-> mat_down[\"Hur_down\"].shape: (10, 32768)\n",
      "-> mat_up[\"Hur_up\"].shape: (10, 32768)\n",
      "-> Hur_down.shape: (40, 32768)\n",
      "-> Hur_up.shape: (40, 32768)\n",
      "Loading batch #6...\n",
      "-> mat_down[\"Hur_down\"].shape: (10, 32768)\n",
      "-> mat_up[\"Hur_up\"].shape: (10, 32768)\n",
      "-> Hur_down.shape: (50, 32768)\n",
      "-> Hur_up.shape: (50, 32768)\n",
      "Loading batch #7...\n",
      "-> mat_down[\"Hur_down\"].shape: (10, 32768)\n",
      "-> mat_up[\"Hur_up\"].shape: (10, 32768)\n",
      "-> Hur_down.shape: (60, 32768)\n",
      "-> Hur_up.shape: (60, 32768)\n",
      "Loading batch #8...\n",
      "-> mat_down[\"Hur_down\"].shape: (10, 32768)\n",
      "-> mat_up[\"Hur_up\"].shape: (10, 32768)\n",
      "-> Hur_down.shape: (70, 32768)\n",
      "-> Hur_up.shape: (70, 32768)\n",
      "Loading batch #9...\n",
      "-> mat_down[\"Hur_down\"].shape: (10, 32768)\n",
      "-> mat_up[\"Hur_up\"].shape: (10, 32768)\n",
      "-> Hur_down.shape: (80, 32768)\n",
      "-> Hur_up.shape: (80, 32768)\n",
      "Loading batch #10...\n",
      "-> mat_down[\"Hur_down\"].shape: (10, 32768)\n",
      "-> mat_up[\"Hur_up\"].shape: (10, 32768)\n",
      "-> Hur_down.shape: (90, 32768)\n",
      "-> Hur_up.shape: (90, 32768)\n"
     ]
    }
   ],
   "source": [
    "base_name = '../raw_data/mat_indoor5351_bw20MHz_128ant'\n",
    "[Hur_down, Hur_up] = load_batches(10, base_name)"
   ]
  },
  {
   "cell_type": "code",
   "execution_count": 41,
   "metadata": {},
   "outputs": [
    {
     "name": "stdout",
     "output_type": "stream",
     "text": [
      "saving samples at indices: [62 67 49 57 46 77 74 34 78 18]\n",
      "Hur_down_out.shape: (10, 32768)\n",
      "Hur_up_out.shape: (10, 32768)\n"
     ]
    }
   ],
   "source": [
    "[Hur_down_samp, Hur_up_samp] = sample_data(Hur_down, Hur_up, base_name=base_name, n=10, n_ant=32)"
   ]
  },
  {
   "cell_type": "code",
   "execution_count": 24,
   "metadata": {},
   "outputs": [
    {
     "name": "stdout",
     "output_type": "stream",
     "text": [
      "[8 2 4]\n",
      "[[-0.3730587   1.24435605  0.81898292 -0.93112287  0.69789228 -0.9430758\n",
      "  -0.44462988 -0.88427115 -0.65685083  1.03361434]\n",
      " [ 0.5611342   2.45817711 -0.08271401  1.02752777 -0.21734285 -1.05681622\n",
      "  -0.34739302  1.0072853  -0.42051861  0.67291068]\n",
      " [-0.04598417  1.30191785 -0.64036636  0.9644913  -0.15324795 -0.42852979\n",
      "   0.79878568  1.15289822 -1.508627    1.07586337]]\n"
     ]
    }
   ],
   "source": [
    "if __name__==\"__main__\":\n",
    "    try:\n",
    "        base_name = sys.argv[1]\n",
    "        n = sys.argv[2]\n",
    "        n_ant = sys.argv[3]\n",
    "        print('Using inputs: base_name: {} - n: {}'.format(base_name, n))\n",
    "    except:\n",
    "        base_name = '../raw_data/mat_indoor5351_bw20MHz_128ant'\n",
    "        n = 10\n",
    "        n_ant = 32\n",
    "        print('Insufficient inputs detected. Using defaults: base_name: {} - n: {}'.format(base_name, n))\n",
    "    [Hur_down, Hur_up] = load_batches(10, base_name)\n",
    "    [Hur_down_samp, Hur_up_samp] = sample_data(Hur_down, Hur_up, base_name=base_name, n=n, n_ant=32)\n",
    "    "
   ]
  },
  {
   "cell_type": "code",
   "execution_count": null,
   "metadata": {},
   "outputs": [],
   "source": []
  }
 ],
 "metadata": {
  "kernelspec": {
   "display_name": "Python 3",
   "language": "python",
   "name": "python3"
  },
  "language_info": {
   "codemirror_mode": {
    "name": "ipython",
    "version": 3
   },
   "file_extension": ".py",
   "mimetype": "text/x-python",
   "name": "python",
   "nbconvert_exporter": "python",
   "pygments_lexer": "ipython3",
   "version": "3.6.5"
  }
 },
 "nbformat": 4,
 "nbformat_minor": 2
}
